{
 "cells": [
  {
   "cell_type": "markdown",
   "metadata": {},
   "source": [
    "# Web scraping products using La Central 📚\n",
    "\n",
    "In this workbook, we will see an example of how to webscrape prodcut info from a website. This is useful when comparing / monitoring prices, collecting product characteristics or studying competitors. In this example, we will also store all the product info that we collect in a dataframe so that it is more useful to us.  "
   ]
  },
  {
   "cell_type": "code",
   "execution_count": 1,
   "metadata": {},
   "outputs": [],
   "source": [
    "# First step: import the libraries \n",
    "import requests\n",
    "from bs4 import BeautifulSoup\n",
    "import numpy as np\n",
    "import pandas as pd\n",
    "import os"
   ]
  },
  {
   "cell_type": "code",
   "execution_count": 2,
   "metadata": {},
   "outputs": [],
   "source": [
    "# Setting the url of the page we want to scrape (again, feel free to change the page from La Central)\n",
    "url = 'https://www.lacentral.com/recomendados/?mat=S'"
   ]
  },
  {
   "cell_type": "code",
   "execution_count": 3,
   "metadata": {},
   "outputs": [
    {
     "data": {
      "text/plain": [
       "b'<!DOCTYPE html PUBLIC \"-//W3C//DTD XHTML 1.0 Strict//EN\"  \"http://www.w3.org/TR/xhtml1/DTD/xhtml1-strict.dtd\">\\n<html xmlns=\"http://www.w3.org/1999/xhtml\" xml:lang=\"es\"><head>\\n  <title>ATRIL - La Central - 2020</title>\\n  <meta name=\"google-site-verification\" content=\"vMwf5tWiU8JsXdg2vJZGnd1zGY1XPbxjxsTCdQPTUPY\" />\\n  <meta name=\"google-site-verification\" content=\"zecGJ_65TrdLPSDcUEpkv8D9HVmDgSmhLI-OLDrerok\" />\\n  <meta http-equiv=\"content-type\" content=\"text/html; charset=iso-8859-1\" />\\n  <meta http-equiv=\"content-language\" content=\"es\" />\\n  <meta name=\"revisit-after\" content=\"7 days\" />\\n  <meta name=\"distribution\" content=\"global\" />\\n  <meta name=\"rating\" content=\"general\" />\\n  <meta name=\"DC.language\" content=\"es\" />\\n  <meta name=\"autor\" content=\"Llibreria La Central\" />\\n  <meta name=\"description\" content=\"ATRIL - La Central - 2020\" />\\n  <meta name=\"keywords\" content=\"companyia,central,llibretera,lacentral,barcelona,llibreria,librer\\xc3\\xada,humanidades,arte,teatro,literatura,filosof\\xc3\\xada,ebook,epub,pdf,adobe,digital,libro,libros\" />\\n  <link type=\"text/css\" rel=\"stylesheet\" media=\"screen,projection,print\" href=\"/web/css/master.css\" />\\n  <script type=\"text/javascript\" src=\"/web/js/jquery-1.5.min.js\"></script>\\n  <script type=\"text/javascript\" src=\"/web/js/jquery.metadata.js\"></script>\\n  <script type=\"text/javascript\" src=\"/web/js/jquery-ui-1.8.9.custom.min.js\"></script>\\n  <script type=\"text/javascript\" src=\"/web/js/jquery.validate.min.js\"></script>\\n  <script type=\"text/javascript\" src=\"/web/js/localization/messages_es.js\"></script>\\n  <script type=\"text/javascript\" src=\"/web/js/jquery.cookie.js\"></script>\\n  <script type=\"text/javascript\" src=\"/web/js/jquery.form.js\"></script>\\n  <script type=\"text/javascript\" src=\"/web/js/jquery.alerts.js\"></script>\\n  <script type=\"text/javascript\" src=\"/web/js/jquery.jcarousel.min.js?v=20200429\"></script>\\n  <script type=\"text/javascript\" src=\"/web/js/jquery.cycle.all.min.js\"></script>\\n  <script type=\"text/javascript\" src=\"/web/js/langs.js.groovy\"></script>\\n  <script type=\"text/javascript\" src=\"/web/js/social.js\"></script>\\n  <script type=\"text/javascript\" src=\"/web/js/functions.js\"></script>\\n  <script type=\"text/javascript\" src=\"/web/js/master.js\"></script>\\n  <script type=\"text/javascript\" src=\"https://apis.google.com/js/plusone.js\">{lang: \\'es\\'}</script>\\n  <link type=\"text/css\" rel=\"stylesheet\" href=\"/web/js/jquery.alerts.css\" />\\n  <link type=\"text/css\" rel=\"stylesheet\" href=\"/web/css/jcarousel/recomendados/skin.css\" />\\n  <link type=\"text/css\" rel=\"stylesheet\" href=\"/web/css/jcarousel/mirada/skin.css\" />\\n  <link type=\"text/css\" rel=\"stylesheet\" href=\"/web/css/jcarousel/destacat/skin.css\" />\\n  <link type=\"text/css\" rel=\"stylesheet\" href=\"/web/css/jcarousel/novedades/skin.css\" />\\n  <link type=\"text/css\" rel=\"stylesheet\" href=\"/web/css/jcarousel/materias_detalle/skin.css\" />\\n  <link type=\"text/css\" rel=\"stylesheet\" href=\"/web/css/jcarousel/objetos-1/skin.css\" />\\n  <link type=\"text/css\" rel=\"stylesheet\" href=\"/web/css/jcarousel/objetos_especial/skin.css\" />\\n  <link type=\"text/css\" rel=\"stylesheet\" href=\"/web/css/jcarousel/objetos_mas_vendidos/skin.css\" />\\n  <link type=\"text/css\" rel=\"stylesheet\" href=\"/web/css/micentral_bar.css\" />\\n  <link type=\"text/css\" rel=\"stylesheet\" href=\"/web/css/es.css\" />\\n  <link type=\"text/css\" rel=\"stylesheet\" media=\"screen,projection,print\" href=\"/web/css/recomendados.css\" />\\n  <link type=\"text/css\" rel=\"stylesheet\" href=\"https://maxcdn.bootstrapcdn.com/font-awesome/latest/css/font-awesome.min.css\" />\\n  <link type=\"text/css\" rel=\"stylesheet\" href=\"https://fonts.googleapis.com/css?family=Open+Sans\" /><!--[if IE 7]>\\n\\n  <link type=\"text/css\" rel=\"stylesheet\" media=\"screen,projection\" href=\"/web/css/ie7.css\" /><![endif]--> \\n<!--[if IE 6]>\\n\\n  <script type=\"text/javascript\" src=\"/web/js/jquery.fixie6.js\"></script><![endif]--> \\n\\n</head>\\n  <body>\\n<div class=\"hide\">\\n  <hr />\\n  <p>Saltar a:\\n    <a title=\"Ir al contenido principal\" href=\"#main\">Contenido \\xef\\xbf\\xbd\\xef\\xbf\\xbd\\xef\\xbf\\xbd</a> | \\n    <a title=\"Ir al pie de la p&amp;aacute;gina\" href=\"#footer\">Pie de la p&amp;aacute;gina \\xef\\xbf\\xbd\\xef\\xbf\\xbd\\xef\\xbf\\xbd</a> | \\n    <a title=\"Ir al men&amp;uacute; principal\" href=\"#nav\">Men&amp;uacute; principal \\xef\\xbf\\xbd\\xef\\xbf\\xbd\\xef\\xbf\\xbd</a>\\n  </p>\\n  <hr />\\n</div>\\n    <div id=\"wrapper\">\\n<div id=\"header\">\\n  <div id=\"logo\">\\n    <a href=\"/\" title=\"Ir al inicio\">\\n      <img src=\"/web/imgs/logo.png\" alt=\"La Central\" title=\"La Central\" />\\n    </a>\\n    <h1>\\n      <a href=\"\" title=\"Ir al inicio de LaCentral\">LaCentral</a>\\n    </h1>\\n  </div>\\n  <div id=\"language\">\\n    <ul>\\n      <li>\\n        <a href=\"/?idm=2\">Catal\\xc3\\xa1n</a>\\n      </li>\\n    </ul>\\n  </div>\\n  <div id=\"tools\">\\n    <ul>\\n      <li>\\n        <a href=\"/help/\">Ayuda</a>\\n      </li>\\n      <li>\\n        <a href=\"/mapa/\">Mapa Web</a>\\n      </li>\\n    </ul>\\n  </div>\\n  <div id=\"navTop\"><ul><li class=\"section1\"><a href=\"/web/novedades/\">Novedades</a><ul><li><a href=\"/web/novedades/?mat=A\">Arquitectura, arte y <br />fotografia</a></li><li><a href=\"/web/novedades/?mat=H\">Antropolog\\xc3\\xada,<br />geograf\\xc3\\xada e historia</a></li><li><a href=\"/web/novedades/?mat=S\">Ciencias<br />sociales</a></li><li><a href=\"/web/novedades/?mat=E\">Estudios <br> literarios</a></li><li><a href=\"/web/novedades/?mat=C\">C\\xc3\\xb3mic</a></li><li><a href=\"/web/novedades/?mat=L\">Literatura</a></li><li><a href=\"/web/novedades/?mat=B\">Cine, m\\xc3\\xbasica<br />y teatro</a></li><li><a href=\"/web/novedades/?mat=F\">Ciencias, filosof\\xc3\\xada y<br />religi\\xc3\\xb3n</a></li><li><a href=\"/web/novedades/?mat=U\">Infantil y<br />juvenil</a></li><li><a href=\"/web/novedades/?mat=G\">Cocina y<br>viajes</a></li></ul></li><li class=\"section2\"><a href=\"/web/catalogo/\">Cat\\xc3\\xa1logo</a><ul><li><a href=\"/web/materias/\">Libros</a><ul><li><a href=\"/web/materias/\">Materias</a></li><li><a href=\"/web/bibliografias/\">Bibliograf\\xc3\\xadas</a></li><li><a href=\"/web/masvendidos/\">Los m\\xc3\\xa1s vendidos</a></li><li><a href=\"/web/edicions/\">Ediciones La Central</a></li></ul></li><li><a href=\"/web/ebooks/\">eBooks</a></li></ul></li><style type=\"text/css\">#navTop ul li.section1 > a { width: 120px !important; }#navTop ul li.section2 > a { width: 120px !important; }#navTop ul li.section3 > a { width: 125px !important; }#navTop ul li.section4 > a { width: 145px !important; }#navTop ul li.section5 > a { width: 112px !important; }#navTop ul li.section6 > a { width: 111px !important; }#navTop ul li.section8 > a { width: 120px !important; }#navTop ul li.section9 > a { width: 120px !important; }#navTop li.section4 ul { width: 535px !important; }#navTop li.section8 ul.hover { left: -233px !important; }</style><li class=\"section4\"><a href=\"/agenda/madrid\">Agenda Madrid</a><ul class=\"\"><li><a href=\"/agenda/madrid/presentaciones-y-encuentros\">Presentaciones<br/>y encuentros</a></li><li><a href=\"/agenda/madrid/academia-la-central\">Academia<br/>La Central</a></li><li><a href=\"/agenda/madrid/actividades-infantiles\">Actividades<br/>infantiles</a></li><li><a href=\"/agenda/madrid/conciertos\">Conciertos</a></li><li><a href=\"/agenda/madrid/otros-eventos\">Otros eventos</a></li></ul></li><li class=\"section4\"><a href=\"/agenda/barcelona\">Agenda Barcelona</a><ul class=\"\"><li><a href=\"/agenda/barcelona/presentaciones-y-encuentros\">Presentaciones<br/>y encuentros</a></li><li><a href=\"/agenda/barcelona/academia-la-central\">Academia<br/>La Central</a></li><li><a href=\"/agenda/barcelona/actividades-infantiles\">Actividades<br/>infantiles</a></li><li><a href=\"/agenda/barcelona/conciertos\">Conciertos</a></li><li><a href=\"/agenda/barcelona/otros-eventos\">Otros eventos</a></li></ul></li><li class=\"section9\"><a href=\"/lacentralita\">La Centralita</a></li><li class=\"section5\"><a href=\"/blog\">Blog</a></li><li class=\"section6\"><a href=\"/web/edicions/\">Ediciones</a><ul><li><a href=\"/web/edicions/escritores/\">La librer\\xc3\\xada de los escritores</a></li><li><a href=\"/web/edicions/cuadernos/\">Cuadernos postal</a></li><li><a href=\"/web/edicions/coup/\">Coup de d\\xc3\\xa9s</a></li><li><a href=\"/web/edicions/picassiana/\">Picassiana</a></li><li><a href=\"/web/edicions/barcelona/\">Barcelona</a></li><li><a href=\"/web/edicions/especiales/\">Ediciones especiales</a></li></ul></li><li class=\"section8\"><a href=\"/web/nosotros/\">Nosotros</a><ul><li><a href=\"/web/historia/\">Historia</a></li><li><a href=\"/web/servicios/\">Servicios</a></li><li><a href=\"/web/librerias/\">Librer\\xc3\\xadas</a></li><li><a href=\"/web/contacto/\">Contacto</a></li></ul></li></ul></div>\\n</div>\\n      <div id=\"content\">\\n<div id=\"side\">\\n  <div id=\"myCentral\">\\n    <h2>Mi Central</h2>\\n    <h3>\\n      <a href=\"/ventajas/\">Ventajas</a>\\n    </h3>\\n    <h3 class=\"compra\">\\n      <a href=\"/cesta/\" id=\"global_cesta_icon\">Cesta de compra</a>\\n    </h3>\\n  </div>\\n  <div id=\"user\">\\n    <form name=\"login\" id=\"login\" method=\"post\" action=\"/web/ajax.groovy?op=login&amp;nocache=d84d1f45-3a8e-4feb-a5e3-ff9087d7aae5&amp;go=\">\\n      <div>\\n        <label for=\"email\">Usuario</label>\\n        <input name=\"email\" id=\"email\" type=\"text\" value=\"\" />\\n      </div>\\n      <div>\\n        <label for=\"passwd\">Clave</label>\\n        <input name=\"passwd\" id=\"passwd\" type=\"password\" value=\"\" />\\n      </div>\\n      <div>\\n        <input type=\"submit\" class=\"butSubmit\" value=\"Entrar\" id=\"entrar\" />\\n      </div>\\n    </form>\\n    <p>\\n      <a href=\"https://www.lacentral.com/usuario/recordarclave/\">Recordar Clave</a>\\n    </p>\\n    <h3>\\n      <a href=\"https://www.lacentral.com/usuario/registro/\">Nuevo usuario</a>\\n    </h3>\\n  </div>\\n  <div id=\"search\">\\n    <h2>Buscador</h2>\\n    <h3>Simple</h3>\\n    <p>T\\xc3\\xadtulo, autor, palabra clave...</p>\\n    <form method=\"get\" action=\"\" id=\"frmbus\">\\n      <div>\\n        <label for=\"textBuscador\">Palabra clave</label>\\n        <input name=\"g\" id=\"textBuscador\" type=\"text\" value=\"\" />\\n        <input type=\"submit\" class=\"butSubmit\" value=\"Buscar\" />\\n      </div>\\n    </form>\\n    <h3 class=\"butAdvanced\">\\n      <a href=\"/search/avanzada/\">B\\xc3\\xbasqueda avanzada</a>\\n    </h3>\\n  </div>\\n</div>\\n        <div id=\"main\">\\n          <h2>Recomendados</h2>\\n          <p class=\"destaca\">He aqu\\xc3\\xad una selecci\\xc3\\xb3n de libros que, por su car\\xc3\\xa1cter de novedad, su valor a\\xc3\\xb1adido de actualidad o su significado en la coyuntura cultural, destacamos con especial \\xc3\\xa9nfasis</p>\\n          <ul class=\"topPageNav\">\\n            <li>\\n              <a href=\"/recomendados/?mat=A\">Arquitectura, Arte y Fotograf\\xc3\\xada</a>\\n            </li>\\n            <li>\\n              <a href=\"/recomendados/?mat=H\">Antropolog\\xc3\\xada, Geograf\\xc3\\xada e Historia</a>\\n            </li>\\n            <li class=\"selected\">\\n              <a href=\"/recomendados/?mat=S\">Ciencias Sociales</a>\\n            </li>\\n            <li>\\n              <a href=\"/recomendados/?mat=E\">Estudios sobre lengua y literatura</a>\\n            </li>\\n            <li>\\n              <a href=\"/recomendados/?mat=L\">Literatura</a>\\n            </li>\\n            <li>\\n              <a href=\"/recomendados/?mat=B\">Cine, M\\xc3\\xbasica y Teatro</a>\\n            </li>\\n            <li>\\n              <a href=\"/recomendados/?mat=C\">Comics</a>\\n            </li>\\n            <li>\\n              <a href=\"/recomendados/?mat=V\">Viajes</a>\\n            </li>\\n            <li>\\n              <a href=\"/recomendados/?mat=F\">Ciencias, Filosof\\xc3\\xada y Religi\\xc3\\xb3n</a>\\n            </li>\\n            <li>\\n              <a href=\"/recomendados/?mat=G\">Gastronom\\xc3\\xada y cocina</a>\\n            </li>\\n            <li>\\n              <a href=\"/recomendados/?mat=U\">Infantil y Juvenil</a>\\n            </li>\\n            <li>\\n              <a href=\"/recomendados/?mat=X\">Objetos y art\\xc3\\xadculos de regalo</a>\\n            </li>\\n          </ul>\\n          <div id=\"multiCol3\">\\n            <h3>Ciencias Sociales</h3>\\n            <ul>\\n              <li>\\n                <p class=\"imgLeft\">\\n                  <a href=\"/book/?id=9788430977833\"><img src=\\'/9788430977833.jpg\\' style=\\'border:1px solid black; width:76px\\' /></a>\\n                </p>\\n                <h4>\\n                  <a href=\"/book/?id=9788430977833\">Marrero Rocha, Inmaculada</a>\\n                </h4>\\n                <h5>\\n                  <a href=\"/book/?id=9788430977833\">Soldados del terrorismo global. Los nuevos combatientes extranjeros</a>\\n                </h5>\\n                <p>Esta obra tiene como misi&oacute;n ofrecer una visi&oacute;n m&aacute;s profunda y completa de la nat...</p>\\n              </li>\\n              <li>\\n                <p class=\"imgLeft\">\\n                  <a href=\"/book/?id=9788417623371\">\\n<img src=\\'/9788417623371.jpg\\' style=\\'border:1px solid black; width:76px\\' /></a>\\n                </p>\\n                <h4>\\n                  <a href=\"/book/?id=9788417623371\">Robinson, Andy</a>\\n                </h4>\\n                <h5>\\n                  <a href=\"/book/?id=9788417623371\">Oro, petr\\xc3\\xb3leo y aguacates</a>\\n                </h5>\\n                <p>Andy Robinson cuenta en estas cr&oacute;nicas personales la historia de las materias pr...</p>\\n              </li>\\n              <li>\\n                <p class=\"imgLeft\">\\n                  <a href=\"/book/?id=9788433964557\">\\n<img src=\\'/9788433964557.jpg\\' style=\\'border:1px solid black; width:76px\\' /></a>\\n                </p>\\n                <h4>\\n                  <a href=\"/book/?id=9788433964557\">Preciado, Paul B.</a>\\n                </h4>\\n                <h5>\\n                  <a href=\"/book/?id=9788433964557\">Manifiesto contrasexual</a>\\n                </h5>\\n                <p>&laquo;En el principio era el dildo. El dildo antecede al pene. Es el origen del pene....</p>\\n              </li>\\n              <li>\\n                <p class=\"imgLeft\">\\n                  <a href=\"/book/?id=9788412064476\">\\n<img src=\\'/9788412064476.jpg\\' style=\\'border:1px solid black; width:76px\\' /></a>\\n                </p>\\n                <h4>\\n                  <a href=\"/book/?id=9788412064476\">Quinones, Sam</a>\\n                </h4>\\n                <h5>\\n                  <a href=\"/book/?id=9788412064476\">Tierra de sue\\xc3\\xb1os</a>\\n                </h5>\\n                <p>Quinones teje dos historias cl&aacute;sicas sobre el capitalismo enloquecido cuya colis...</p>\\n              </li>\\n              <li>\\n                <p class=\"imgLeft\">\\n                  <a href=\"/book/?id=9788412064490\">\\n<img src=\\'/9788412064490.jpg\\' style=\\'border:1px solid black; width:76px\\' /></a>\\n                </p>\\n                <h4>\\n                  <a href=\"/book/?id=9788412064490\">Rich, Nathaniel</a>\\n                </h4>\\n                <h5>\\n                  <a href=\"/book/?id=9788412064490\">Perdiendo la tierra</a>\\n                </h5>\\n                <p>En 1979 sab&iacute;amos casi todo lo que entendemos hoy sobre cambio clim&aacute;tico, incluso...</p>\\n              </li>\\n              <li>\\n                <p class=\"imgLeft\">\\n                  <a href=\"/book/?id=9788417996635\">\\n<img src=\\'/9788417996635.jpg\\' style=\\'border:1px solid black; width:76px\\' /></a>\\n                </p>\\n                <h4>\\n                  <a href=\"/book/?id=9788417996635\">Vargas, Fred</a>\\n                </h4>\\n                <h5>\\n                  <a href=\"/book/?id=9788417996635\">La humanidad en peligro</a>\\n                </h5>\\n                <p>Hace diez a&ntilde;os, Fred Vargas public&oacute; un breve texto sobre ecolog&iacute;a, sin imaginar...</p>\\n              </li>\\n              <li>\\n                <p class=\"imgLeft\">\\n                  <a href=\"/book/?id=9789871622849\">\\n<img src=\\'/9789871622849.jpg\\' style=\\'border:1px solid black; width:76px\\' /></a>\\n                </p>\\n                <h4>\\n                  <a href=\"/book/?id=9789871622849\">Esteban Mu\\xc3\\xb1oz, Jos\\xc3\\xa9</a>\\n                </h4>\\n                <h5>\\n                  <a href=\"/book/?id=9789871622849\">Utop\\xc3\\xada queer</a>\\n                </h5>\\n                <p>Lo queer a&uacute;n no ha llegado. Es una idealidad. Dicho de otro modo, a&uacute;n no somo...</p>\\n              </li>\\n              <li>\\n                <p class=\"imgLeft\">\\n                  <a href=\"/book/?id=9788417552824\">\\n<img src=\\'/9788417552824.jpg\\' style=\\'border:1px solid black; width:76px\\' /></a>\\n                </p>\\n                <h4>\\n                  <a href=\"/book/?id=9788417552824\">Frase, Peter</a>\\n                </h4>\\n                <h5>\\n                  <a href=\"/book/?id=9788417552824\">Cuatro futuros</a>\\n                </h5>\\n                <p>&iquest;C&Oacute;MO SER&Aacute; LA VIDA DESPU&Eacute;S DEL CAPITALISMO?\\r\\nPeter Frase imagina cuatro posib...</p>\\n              </li>\\n              <li>\\n                <p class=\"imgLeft\">\\n                  <a href=\"/book/?id=9788449336560\">\\n<img src=\\'/9788449336560.jpg\\' style=\\'border:1px solid black; width:76px\\' /></a>\\n                </p>\\n                <h4>\\n                  <a href=\"/book/?id=9788449336560\">Horvat, Srecko</a>\\n                </h4>\\n                <h5>\\n                  <a href=\"/book/?id=9788449336560\">Poes\\xc3\\xada del futuro</a>\\n                </h5>\\n                <p>C&oacute;mo un movimiento de liberaci&oacute;n global es la &uacute;ltima oportunidad de nuestra civi...</p>\\n              </li>\\n              <li>\\n                <p class=\"imgLeft\">\\n                  <a href=\"/book/?id=9788417971465\">\\n<img src=\\'/9788417971465.jpg\\' style=\\'border:1px solid black; width:76px\\' /></a>\\n                </p>\\n                <h4>\\n                  <a href=\"/book/?id=9788417971465\">Innerarity, Daniel</a>\\n                </h4>\\n                <h5>\\n                  <a href=\"/book/?id=9788417971465\">Una teor\\xc3\\xada de la democracia compleja</a>\\n                </h5>\\n                <p>La principal amenaza de la democracia no es la violencia ni la corrupci&oacute;n o la i...</p>\\n              </li>\\n              <li>\\n                <p class=\"imgLeft\">\\n                  <a href=\"/book/?id=9788494999246\">\\n<img src=\\'/9788494999246.jpg\\' style=\\'border:1px solid black; width:76px\\' /></a>\\n                </p>\\n                <h4>\\n                  <a href=\"/book/?id=9788494999246\">Mansbridge, Jane</a>\\n                </h4>\\n                <h5>\\n                  <a href=\"/book/?id=9788494999246\">Feminismo: breve introducci\\xc3\\xb3n a una ideolog\\xc3\\xada pol\\xc3\\xadtica</a>\\n                </h5>\\n                <p>En el presente volumen, dos de las m&aacute;s destacadas estudiosas del feminismo sinte...</p>\\n              </li>\\n              <li>\\n                <p class=\"imgLeft\">\\n                  <a href=\"/book/?id=9788499987873\">\\n<img src=\\'/9788499987873.jpg\\' style=\\'border:1px solid black; width:76px\\' /></a>\\n                </p>\\n                <h4>\\n                  <a href=\"/book/?id=9788499987873\">Tolentino, Jia</a>\\n                </h4>\\n                <h5>\\n                  <a href=\"/book/?id=9788499987873\">Falso espejo</a>\\n                </h5>\\n                <p>Jia Tolentino es una voz incomparable a la hora de abordar los conflictos, contr...</p>\\n              </li>\\n              <li>\\n                <p class=\"imgLeft\">\\n                  <a href=\"/book/?id=9788416737833\">\\n<img src=\\'/9788416737833.jpg\\' style=\\'border:1px solid black; width:76px\\' /></a>\\n                </p>\\n                <h4>\\n                  <a href=\"/book/?id=9788416737833\">Alem\\xc3\\xa1n, Jorge</a>\\n                </h4>\\n                <h5>\\n                  <a href=\"/book/?id=9788416737833\">Raz\\xc3\\xb3n fronteriza y sujeto del inconsciente</a>\\n                </h5>\\n                <p>&iquest;Qu&eacute; llevar&iacute;a a dos psicoanalistas lacanianos a interesarse por la filosof&iacute;a del...</p>\\n              </li>\\n              <li>\\n                <p class=\"imgLeft\">\\n                  <a href=\"/book/?id=9788494914775\">\\n<img src=\\'/9788494914775.jpg\\' style=\\'border:1px solid black; width:76px\\' /></a>\\n                </p>\\n                <h4>\\n                  <a href=\"/book/?id=9788494914775\">Rich, Adrienne</a>\\n                </h4>\\n                <h5>\\n                  <a href=\"/book/?id=9788494914775\">Nacemos de mujer</a>\\n                </h5>\\n                <p>La maternidad como experiencia e instituci&oacute;n&laquo;Sabemos mucho m&aacute;s acerca de...</p>\\n              </li>\\n              <li>\\n                <p class=\"imgLeft\">\\n                  <a href=\"/book/?id=9788494966866\">\\n<img src=\\'/9788494966866.jpg\\' style=\\'border:1px solid black; width:76px\\' /></a>\\n                </p>\\n                <h4>\\n                  <a href=\"/book/?id=9788494966866\">Rich, Adrienne</a>\\n                </h4>\\n                <h5>\\n                  <a href=\"/book/?id=9788494966866\">Ensayos esenciales. Cultura, pol\\xc3\\xadtica y el arte de la poes\\xc3\\xada</a>\\n                </h5>\\n                <p>Adrienne Rich fue una poeta galardonada, una ensayista influyente, una feminista...</p>\\n              </li>\\n              <li>\\n                <p class=\"imgLeft\">\\n                  <a href=\"/book/?id=9789874299499\">\\n<img src=\\'/9789874299499.jpg\\' style=\\'border:1px solid black; width:76px\\' /></a>\\n                </p>\\n                <h4>\\n                  <a href=\"/book/?id=9789874299499\">Zizek, Slavoj</a>\\n                </h4>\\n                <h5>\\n                  <a href=\"/book/?id=9789874299499\">Disparen contra Marx</a>\\n                </h5>\\n                <p>Colaboradores: Silvia Federici, Eduardo Gr&uuml;ner, Paolo Virno, Patricia Laterra, R...</p>\\n              </li>\\n              <li>\\n                <p class=\"imgLeft\">\\n                  <a href=\"/book/?id=9788491816812\">\\n<img src=\\'/9788491816812.jpg\\' style=\\'border:1px solid black; width:76px\\' /></a>\\n                </p>\\n                <h4>\\n                  <a href=\"/book/?id=9788491816812\">Maalouf, Amin </a>\\n                </h4>\\n                <h5>\\n                  <a href=\"/book/?id=9788491816812\">El naufragio de las civilizaciones</a>\\n                </h5>\\n                <p>Cuando los espectaculares avances tecnol&oacute;gicos de nuestros d&iacute;as nos han facilita...</p>\\n              </li>\\n              <li>\\n                <p class=\"imgLeft\">\\n                  <a href=\"/book/?id=9788491991458\">\\n<img src=\\'/9788491991458.jpg\\' style=\\'border:1px solid black; width:76px\\' /></a>\\n                </p>\\n                <h4>\\n                  <a href=\"/book/?id=9788491991458\">Frankopan, Peter</a>\\n                </h4>\\n                <h5>\\n                  <a href=\"/book/?id=9788491991458\">Las nuevas rutas de la seda</a>\\n                </h5>\\n                <p>Hubo una vez en la que todos los caminos llevaron a Roma, ahora llevan a Pek&iacute;n.&lt;...</p>\\n              </li>\\n              <li>\\n                <p class=\"imgLeft\">\\n                  <a href=\"/book/?id=9788491817222\">\\n<img src=\\'/9788491817222.jpg\\' style=\\'border:1px solid black; width:76px\\' /></a>\\n                </p>\\n                <h4>\\n                  <a href=\"/book/?id=9788491817222\">Forti, Steven</a>\\n                </h4>\\n                <h5>\\n                  <a href=\"/book/?id=9788491817222\">Patriotas indignados</a>\\n                </h5>\\n                <p>En los &uacute;ltimos treinta a&ntilde;os, desde el final de la Guerra Fr&iacute;a ha tenido lugar un...</p>\\n              </li>\\n              <li>\\n                <p class=\"imgLeft\">\\n                  <a href=\"/book/?id=9788415906995\">\\n<img src=\\'/9788415906995.jpg\\' style=\\'border:1px solid black; width:76px\\' /></a>\\n                </p>\\n                <h4>\\n                  <a href=\"/book/?id=9788415906995\">Abdo F\\xc3\\xa9rez, Cecilia</a>\\n                </h4>\\n                <h5>\\n                  <a href=\"/book/?id=9788415906995\">Contra las mujeres. (In)Justicia en Spinoza</a>\\n                </h5>\\n                <p>&iquest;C&oacute;mo puede alguien escribir una &eacute;tica y obviar la definici&oacute;n de justicia? Este...</p>\\n              </li>\\n              <li>\\n                <p class=\"imgLeft\">\\n                  <a href=\"/book/?id=9788433964533\">\\n<img src=\\'/9788433964533.jpg\\' style=\\'border:1px solid black; width:76px\\' /></a>\\n                </p>\\n                <h4>\\n                  <a href=\"/book/?id=9788433964533\">Preciado, Paul B.</a>\\n                </h4>\\n                <h5>\\n                  <a href=\"/book/?id=9788433964533\">Testo yonqui</a>\\n                </h5>\\n                <p>Este libro no es un libro al uso. Es, de entrada, un texto h&iacute;brido, que entrecru...</p>\\n              </li>\\n              <li>\\n                <p class=\"imgLeft\">\\n                  <a href=\"/book/?id=9788433964540\">\\n<img src=\\'/9788433964540.jpg\\' style=\\'border:1px solid black; width:76px\\' /></a>\\n                </p>\\n                <h4>\\n                  <a href=\"/book/?id=9788433964540\">Preciado, Paul B.</a>\\n                </h4>\\n                <h5>\\n                  <a href=\"/book/?id=9788433964540\">Pornotop\\xc3\\xada</a>\\n                </h5>\\n                <p>En plena guerra fr&iacute;a, Hugh Hefner crea la que pronto se convertir&iacute;a en la revist...</p>\\n              </li>\\n              <li>\\n                <p class=\"imgLeft\">\\n                  <a href=\"/book/?id=9788417121204\">\\n<img src=\\'/9788417121204.jpg\\' style=\\'border:1px solid black; width:76px\\' /></a>\\n                </p>\\n                <h4>\\n                  <a href=\"/book/?id=9788417121204\"></a>\\n                </h4>\\n                <h5>\\n                  <a href=\"/book/?id=9788417121204\">Ecoanimal</a>\\n                </h5>\\n                <p>La cat&aacute;strofe ecol&oacute;gica es el problema m&aacute;s grave que ha tenido que afrontar nunc...</p>\\n              </li>\\n              <li>\\n                <p class=\"imgLeft\">\\n                  <a href=\"/book/?id=9788417636463\">\\n<img src=\\'/9788417636463.jpg\\' style=\\'border:1px solid black; width:76px\\' /></a>\\n                </p>\\n                <h4>\\n                  <a href=\"/book/?id=9788417636463\">Wallace-Wells, David</a>\\n                </h4>\\n                <h5>\\n                  <a href=\"/book/?id=9788417636463\">El planeta inh\\xc3\\xb3spito</a>\\n                </h5>\\n                <p>Hoy, la subida del nivel del mar es una causa de alarma generalizada entre aquel...</p>\\n              </li>\\n            </ul>\\n          </div>\\n        </div>\\n      </div>\\n<div id=\"footer\">\\n  <div class=\"ads\">\\n    <a href=\"#\">\\n      <img src=\"/static/imgs/cnl-web.png\" />\\n    </a>\\n    <br />\\n    <a class=\"facebook\" href=\"http://www.facebook.com/pages/La-Central/113735695305462\" target=\"_blank\">\\n      <img src=\"/web/imgs/facebook.gif\" alt=\"La Central a facebook\" />\\n    </a>\\n    <br />\\n    <a class=\"twitter\" href=\"http://twitter.com/#!/La_Central_\" target=\"_blank\">\\n      <img src=\"/web/imgs/twitter.gif\" alt=\"La Central a twitter\" />\\n    </a>\\n    <br />\\n    <a href=\"http://www.museuhistoria.bcn.es\" target=\"_blank\">\\n      <img src=\"/web/imgs/footer-museu.gif\" alt=\"\" />\\n    </a>\\n    <br />\\n    <a href=\"http://www.museoreinasofia.es\" target=\"_blank\">\\n      <img src=\"/web/imgs/footer-mnca.gif\" alt=\"\" />\\n    </a>\\n  </div>\\n  <p>\\n    <a href=\"/avisolegal/\">Aviso Legal</a> - \\n    <a href=\"/condicionesgenerales/\">Condiciones Generales de Compra</a> - \\n    <a href=\"/privacidad/\">Politica de Privacidad</a> - \\n    <a href=\"/cookies/\">Pol&iacute;tica de cookies</a> - \\n    <a href=\"/creditos/\">Cr\\xc3\\xa9ditos</a>\\n    <br />\\n  </p>\\n  <p>&copy; 2011 La Central</p>\\n</div>\\n    <script type=\"text/javascript\">\\n      var gaJsHost = ((\"https:\" == document.location.protocol) ? \"https://ssl.\" : \"http://www.\");\\n      document.write(unescape(\"%3Cscript src=\\'\" + gaJsHost + \"google-analytics.com/ga.js\\' type=\\'text/javascript\\'%3E%3C/script%3E\"));\\n    </script>\\n    <script type=\"text/javascript\">\\n      var pageTracker = _gat._getTracker(\"UA-124007-2\");\\n      pageTracker._initData();\\n      pageTracker._trackPageview();\\n    </script>\\n\\t\\n\\n<script type=\"text/javascript\" src=\"/web/js/cookies.js\"></script>\\n<link type=\"text/css\" rel=\"stylesheet\" href=\"/web/css/cookies.css\" />\\n    <div id=\"cookies\">\\n        <div id=\"cookies-message\">\\n            <div id=\"cookies-message-left\">Utilizamos cookies propias y de terceros para mejorar nuestros servicios y mostrarle publicidad relacionada con sus preferencias mediante el an&aacute;lisis de sus h&aacute;bitos de navegaci&oacute;n. Si contin&uacute;a navegando, consideramos que acepta su uso. Puede cambiar la configuraci&oacute;n u obtener m&aacute;s informaci&oacute;n en nuestra &quot;<a href=\"/cookies/\">Pol&iacute;tica de cookies</a>&quot;.</div>\\n            <div id=\"cookies-message-right\"><button onclick=\"createCookie(\\'ac_cookies\\', 1, 365);cookiesClose();\">ACEPTAR</button></div>\\n        </div>\\n    </div>\\n    \\n    </div>\\n<div class=\"hide\">\\n  <hr />\\n  <p>Saltar a:\\n    <a title=\"Ir al contenido principal\" href=\"#main\">Contenido \\xef\\xbf\\xbd\\xef\\xbf\\xbd\\xef\\xbf\\xbd</a> | \\n    <a title=\"Ir al pie de la p&amp;aacute;gina\" href=\"#footer\">Pie de la p&amp;aacute;gina \\xef\\xbf\\xbd\\xef\\xbf\\xbd\\xef\\xbf\\xbd</a> | \\n    <a title=\"Ir al men&amp;uacute; principal\" href=\"#nav\">Men&amp;uacute; principal \\xef\\xbf\\xbd\\xef\\xbf\\xbd\\xef\\xbf\\xbd</a>\\n  </p>\\n  <hr />\\n</div>\\n  </body>\\n</html>'"
      ]
     },
     "execution_count": 3,
     "metadata": {},
     "output_type": "execute_result"
    }
   ],
   "source": [
    "# Passing the url to the requests library \n",
    "page = requests.get(url)\n",
    "page.content"
   ]
  },
  {
   "cell_type": "code",
   "execution_count": 4,
   "metadata": {},
   "outputs": [],
   "source": [
    "# Creating the soup object \n",
    "soup = BeautifulSoup(page.content, 'html5lib')"
   ]
  },
  {
   "cell_type": "code",
   "execution_count": 5,
   "metadata": {},
   "outputs": [
    {
     "data": {
      "text/plain": [
       "(<title>ATRIL - La Central - 2020</title>,\n",
       " bs4.element.Tag,\n",
       " 'ATRIL - La Central - 2020')"
      ]
     },
     "execution_count": 5,
     "metadata": {},
     "output_type": "execute_result"
    }
   ],
   "source": [
    "# Extracting info from the soup object using tags\n",
    "soup.title, type(soup.title), soup.title.get_text()"
   ]
  },
  {
   "cell_type": "markdown",
   "metadata": {},
   "source": [
    "Now, again, let's go to the page and use the inspector tool to look at how we can extract information on the products."
   ]
  },
  {
   "cell_type": "code",
   "execution_count": 6,
   "metadata": {},
   "outputs": [
    {
     "name": "stdout",
     "output_type": "stream",
     "text": [
      "Marrero Rocha, Inmaculada\n",
      "Robinson, Andy\n",
      "Preciado, Paul B.\n",
      "Quinones, Sam\n",
      "Rich, Nathaniel\n",
      "Vargas, Fred\n",
      "Esteban MuÃ±oz, JosÃ©\n",
      "Frase, Peter\n",
      "Horvat, Srecko\n",
      "Innerarity, Daniel\n",
      "Mansbridge, Jane\n",
      "Tolentino, Jia\n",
      "AlemÃ¡n, Jorge\n",
      "Rich, Adrienne\n",
      "Rich, Adrienne\n",
      "Zizek, Slavoj\n",
      "Maalouf, Amin \n",
      "Frankopan, Peter\n",
      "Forti, Steven\n",
      "Abdo FÃ©rez, Cecilia\n",
      "Preciado, Paul B.\n",
      "Preciado, Paul B.\n",
      "\n",
      "Wallace-Wells, David\n"
     ]
    }
   ],
   "source": [
    "# Getting the names of the authors \n",
    "authors = soup.find_all('h4')\n",
    "for name in authors: \n",
    "    print(name.find('a').get_text())"
   ]
  },
  {
   "cell_type": "code",
   "execution_count": 7,
   "metadata": {},
   "outputs": [
    {
     "name": "stdout",
     "output_type": "stream",
     "text": [
      "\n",
      "                  Soldados del terrorismo global. Los nuevos combatientes extranjeros\n",
      "                \n",
      "\n",
      "                  Oro, petrÃ³leo y aguacates\n",
      "                \n",
      "\n",
      "                  Manifiesto contrasexual\n",
      "                \n",
      "\n",
      "                  Tierra de sueÃ±os\n",
      "                \n",
      "\n",
      "                  Perdiendo la tierra\n",
      "                \n",
      "\n",
      "                  La humanidad en peligro\n",
      "                \n",
      "\n",
      "                  UtopÃ­a queer\n",
      "                \n",
      "\n",
      "                  Cuatro futuros\n",
      "                \n",
      "\n",
      "                  PoesÃ­a del futuro\n",
      "                \n",
      "\n",
      "                  Una teorÃ­a de la democracia compleja\n",
      "                \n",
      "\n",
      "                  Feminismo: breve introducciÃ³n a una ideologÃ­a polÃ­tica\n",
      "                \n",
      "\n",
      "                  Falso espejo\n",
      "                \n",
      "\n",
      "                  RazÃ³n fronteriza y sujeto del inconsciente\n",
      "                \n",
      "\n",
      "                  Nacemos de mujer\n",
      "                \n",
      "\n",
      "                  Ensayos esenciales. Cultura, polÃ­tica y el arte de la poesÃ­a\n",
      "                \n",
      "\n",
      "                  Disparen contra Marx\n",
      "                \n",
      "\n",
      "                  El naufragio de las civilizaciones\n",
      "                \n",
      "\n",
      "                  Las nuevas rutas de la seda\n",
      "                \n",
      "\n",
      "                  Patriotas indignados\n",
      "                \n",
      "\n",
      "                  Contra las mujeres. (In)Justicia en Spinoza\n",
      "                \n",
      "\n",
      "                  Testo yonqui\n",
      "                \n",
      "\n",
      "                  PornotopÃ­a\n",
      "                \n",
      "\n",
      "                  Ecoanimal\n",
      "                \n",
      "\n",
      "                  El planeta inhÃ³spito\n",
      "                \n"
     ]
    }
   ],
   "source": [
    "# Getting the book titles \n",
    "titles = soup.find_all('h5')\n",
    "for title in titles: \n",
    "    print(title.get_text())"
   ]
  },
  {
   "cell_type": "markdown",
   "metadata": {},
   "source": [
    "As we can see, we have an issue here in that the book titles and authors do not follow the same pattern. Let's go page to the webpage with the inspector tool to see if we can find a way to extract this info using hierarchy and iteration. "
   ]
  },
  {
   "cell_type": "code",
   "execution_count": 8,
   "metadata": {},
   "outputs": [
    {
     "data": {
      "text/plain": [
       "'Ciencias Sociales'"
      ]
     },
     "execution_count": 8,
     "metadata": {},
     "output_type": "execute_result"
    }
   ],
   "source": [
    "# Zooming in on the info that we want and getting the category \n",
    "body = soup.find('div', id='multiCol3')\n",
    "body.find('h3').get_text()"
   ]
  },
  {
   "cell_type": "code",
   "execution_count": 9,
   "metadata": {},
   "outputs": [
    {
     "data": {
      "text/plain": [
       "24"
      ]
     },
     "execution_count": 9,
     "metadata": {},
     "output_type": "execute_result"
    }
   ],
   "source": [
    "# Creating a list of all the products and checking the length \n",
    "items = body.find_all('li')\n",
    "len(items)"
   ]
  },
  {
   "cell_type": "code",
   "execution_count": 10,
   "metadata": {},
   "outputs": [
    {
     "data": {
      "text/plain": [
       "<li>\n",
       "                <p class=\"imgLeft\">\n",
       "                  <a href=\"/book/?id=9788430977833\"><img src=\"/9788430977833.jpg\" style=\"border:1px solid black; width:76px\"/></a>\n",
       "                </p>\n",
       "                <h4>\n",
       "                  <a href=\"/book/?id=9788430977833\">Marrero Rocha, Inmaculada</a>\n",
       "                </h4>\n",
       "                <h5>\n",
       "                  <a href=\"/book/?id=9788430977833\">Soldados del terrorismo global. Los nuevos combatientes extranjeros</a>\n",
       "                </h5>\n",
       "                <p>Esta obra tiene como misión ofrecer una visión más profunda y completa de la nat...</p>\n",
       "              </li>"
      ]
     },
     "execution_count": 10,
     "metadata": {},
     "output_type": "execute_result"
    }
   ],
   "source": [
    "# Let's quickly inspect one element \n",
    "items[0]"
   ]
  },
  {
   "cell_type": "markdown",
   "metadata": {},
   "source": [
    "In the above example, we can see that the author name is stored in the 'h4' tag, the title in the 'h5' tag and the description in 'p'. So now let's separate out this info and extract it for the example item."
   ]
  },
  {
   "cell_type": "code",
   "execution_count": 13,
   "metadata": {},
   "outputs": [
    {
     "data": {
      "text/plain": [
       "'Marrero Rocha, Inmaculada'"
      ]
     },
     "execution_count": 13,
     "metadata": {},
     "output_type": "execute_result"
    }
   ],
   "source": [
    "# Getting author \n",
    "items[0].find('h4').get_text().strip()"
   ]
  },
  {
   "cell_type": "code",
   "execution_count": 14,
   "metadata": {},
   "outputs": [
    {
     "data": {
      "text/plain": [
       "'Soldados del terrorismo global. Los nuevos combatientes extranjeros'"
      ]
     },
     "execution_count": 14,
     "metadata": {},
     "output_type": "execute_result"
    }
   ],
   "source": [
    "# Getting title \n",
    "items[0].find('h5').get_text().strip()"
   ]
  },
  {
   "cell_type": "code",
   "execution_count": 15,
   "metadata": {},
   "outputs": [
    {
     "data": {
      "text/plain": [
       "'Esta obra tiene como misión ofrecer una visión más profunda y completa de la nat...'"
      ]
     },
     "execution_count": 15,
     "metadata": {},
     "output_type": "execute_result"
    }
   ],
   "source": [
    "# Getting description \n",
    "items[0].find('p', class_=\"\").get_text().strip()"
   ]
  },
  {
   "cell_type": "code",
   "execution_count": 16,
   "metadata": {},
   "outputs": [],
   "source": [
    "# Looping through each item in the list we have created and extracting the info for each one\n",
    "authors = []\n",
    "titles = []\n",
    "descriptions = []\n",
    "\n",
    "for n in range(len(items)):\n",
    "    authors.append(items[n].find('h4').get_text().strip())\n",
    "    titles.append(items[n].find('h5').get_text().strip())\n",
    "    descriptions.append(items[n].find('p', class_=\"\").get_text().strip())"
   ]
  },
  {
   "cell_type": "code",
   "execution_count": 17,
   "metadata": {},
   "outputs": [
    {
     "data": {
      "text/plain": [
       "['Marrero Rocha, Inmaculada',\n",
       " 'Robinson, Andy',\n",
       " 'Preciado, Paul B.',\n",
       " 'Quinones, Sam',\n",
       " 'Rich, Nathaniel',\n",
       " 'Vargas, Fred',\n",
       " 'Esteban MuÃ±oz, JosÃ©',\n",
       " 'Frase, Peter',\n",
       " 'Horvat, Srecko',\n",
       " 'Innerarity, Daniel',\n",
       " 'Mansbridge, Jane',\n",
       " 'Tolentino, Jia',\n",
       " 'AlemÃ¡n, Jorge',\n",
       " 'Rich, Adrienne',\n",
       " 'Rich, Adrienne',\n",
       " 'Zizek, Slavoj',\n",
       " 'Maalouf, Amin',\n",
       " 'Frankopan, Peter',\n",
       " 'Forti, Steven',\n",
       " 'Abdo FÃ©rez, Cecilia',\n",
       " 'Preciado, Paul B.',\n",
       " 'Preciado, Paul B.',\n",
       " '',\n",
       " 'Wallace-Wells, David']"
      ]
     },
     "execution_count": 17,
     "metadata": {},
     "output_type": "execute_result"
    }
   ],
   "source": [
    "# Checking that it looks ok\n",
    "authors"
   ]
  },
  {
   "cell_type": "code",
   "execution_count": 18,
   "metadata": {},
   "outputs": [
    {
     "data": {
      "text/html": [
       "<div>\n",
       "<style scoped>\n",
       "    .dataframe tbody tr th:only-of-type {\n",
       "        vertical-align: middle;\n",
       "    }\n",
       "\n",
       "    .dataframe tbody tr th {\n",
       "        vertical-align: top;\n",
       "    }\n",
       "\n",
       "    .dataframe thead th {\n",
       "        text-align: right;\n",
       "    }\n",
       "</style>\n",
       "<table border=\"1\" class=\"dataframe\">\n",
       "  <thead>\n",
       "    <tr style=\"text-align: right;\">\n",
       "      <th></th>\n",
       "      <th>author</th>\n",
       "      <th>title</th>\n",
       "      <th>description</th>\n",
       "    </tr>\n",
       "  </thead>\n",
       "  <tbody>\n",
       "    <tr>\n",
       "      <th>0</th>\n",
       "      <td>Marrero Rocha, Inmaculada</td>\n",
       "      <td>Soldados del terrorismo global. Los nuevos com...</td>\n",
       "      <td>Esta obra tiene como misión ofrecer una visión...</td>\n",
       "    </tr>\n",
       "    <tr>\n",
       "      <th>1</th>\n",
       "      <td>Robinson, Andy</td>\n",
       "      <td>Oro, petrÃ³leo y aguacates</td>\n",
       "      <td>Andy Robinson cuenta en estas crónicas persona...</td>\n",
       "    </tr>\n",
       "    <tr>\n",
       "      <th>2</th>\n",
       "      <td>Preciado, Paul B.</td>\n",
       "      <td>Manifiesto contrasexual</td>\n",
       "      <td>«En el principio era el dildo. El dildo antece...</td>\n",
       "    </tr>\n",
       "    <tr>\n",
       "      <th>3</th>\n",
       "      <td>Quinones, Sam</td>\n",
       "      <td>Tierra de sueÃ±os</td>\n",
       "      <td>Quinones teje dos historias clásicas sobre el ...</td>\n",
       "    </tr>\n",
       "    <tr>\n",
       "      <th>4</th>\n",
       "      <td>Rich, Nathaniel</td>\n",
       "      <td>Perdiendo la tierra</td>\n",
       "      <td>En 1979 sabíamos casi todo lo que entendemos h...</td>\n",
       "    </tr>\n",
       "    <tr>\n",
       "      <th>5</th>\n",
       "      <td>Vargas, Fred</td>\n",
       "      <td>La humanidad en peligro</td>\n",
       "      <td>Hace diez años, Fred Vargas publicó un breve t...</td>\n",
       "    </tr>\n",
       "    <tr>\n",
       "      <th>6</th>\n",
       "      <td>Esteban MuÃ±oz, JosÃ©</td>\n",
       "      <td>UtopÃ­a queer</td>\n",
       "      <td>Lo queer aún no ha llegado. Es una idealidad. ...</td>\n",
       "    </tr>\n",
       "    <tr>\n",
       "      <th>7</th>\n",
       "      <td>Frase, Peter</td>\n",
       "      <td>Cuatro futuros</td>\n",
       "      <td>¿CÓMO SERÁ LA VIDA DESPUÉS DEL CAPITALISMO?\\nP...</td>\n",
       "    </tr>\n",
       "    <tr>\n",
       "      <th>8</th>\n",
       "      <td>Horvat, Srecko</td>\n",
       "      <td>PoesÃ­a del futuro</td>\n",
       "      <td>Cómo un movimiento de liberación global es la ...</td>\n",
       "    </tr>\n",
       "    <tr>\n",
       "      <th>9</th>\n",
       "      <td>Innerarity, Daniel</td>\n",
       "      <td>Una teorÃ­a de la democracia compleja</td>\n",
       "      <td>La principal amenaza de la democracia no es la...</td>\n",
       "    </tr>\n",
       "    <tr>\n",
       "      <th>10</th>\n",
       "      <td>Mansbridge, Jane</td>\n",
       "      <td>Feminismo: breve introducciÃ³n a una ideologÃ­...</td>\n",
       "      <td>En el presente volumen, dos de las más destaca...</td>\n",
       "    </tr>\n",
       "    <tr>\n",
       "      <th>11</th>\n",
       "      <td>Tolentino, Jia</td>\n",
       "      <td>Falso espejo</td>\n",
       "      <td>Jia Tolentino es una voz incomparable a la hor...</td>\n",
       "    </tr>\n",
       "    <tr>\n",
       "      <th>12</th>\n",
       "      <td>AlemÃ¡n, Jorge</td>\n",
       "      <td>RazÃ³n fronteriza y sujeto del inconsciente</td>\n",
       "      <td>¿Qué llevaría a dos psicoanalistas lacanianos ...</td>\n",
       "    </tr>\n",
       "    <tr>\n",
       "      <th>13</th>\n",
       "      <td>Rich, Adrienne</td>\n",
       "      <td>Nacemos de mujer</td>\n",
       "      <td>La maternidad como experiencia e institución«S...</td>\n",
       "    </tr>\n",
       "    <tr>\n",
       "      <th>14</th>\n",
       "      <td>Rich, Adrienne</td>\n",
       "      <td>Ensayos esenciales. Cultura, polÃ­tica y el ar...</td>\n",
       "      <td>Adrienne Rich fue una poeta galardonada, una e...</td>\n",
       "    </tr>\n",
       "    <tr>\n",
       "      <th>15</th>\n",
       "      <td>Zizek, Slavoj</td>\n",
       "      <td>Disparen contra Marx</td>\n",
       "      <td>Colaboradores: Silvia Federici, Eduardo Grüner...</td>\n",
       "    </tr>\n",
       "    <tr>\n",
       "      <th>16</th>\n",
       "      <td>Maalouf, Amin</td>\n",
       "      <td>El naufragio de las civilizaciones</td>\n",
       "      <td>Cuando los espectaculares avances tecnológicos...</td>\n",
       "    </tr>\n",
       "    <tr>\n",
       "      <th>17</th>\n",
       "      <td>Frankopan, Peter</td>\n",
       "      <td>Las nuevas rutas de la seda</td>\n",
       "      <td>Hubo una vez en la que todos los caminos lleva...</td>\n",
       "    </tr>\n",
       "    <tr>\n",
       "      <th>18</th>\n",
       "      <td>Forti, Steven</td>\n",
       "      <td>Patriotas indignados</td>\n",
       "      <td>En los últimos treinta años, desde el final de...</td>\n",
       "    </tr>\n",
       "    <tr>\n",
       "      <th>19</th>\n",
       "      <td>Abdo FÃ©rez, Cecilia</td>\n",
       "      <td>Contra las mujeres. (In)Justicia en Spinoza</td>\n",
       "      <td>¿Cómo puede alguien escribir una ética y obvia...</td>\n",
       "    </tr>\n",
       "    <tr>\n",
       "      <th>20</th>\n",
       "      <td>Preciado, Paul B.</td>\n",
       "      <td>Testo yonqui</td>\n",
       "      <td>Este libro no es un libro al uso. Es, de entra...</td>\n",
       "    </tr>\n",
       "    <tr>\n",
       "      <th>21</th>\n",
       "      <td>Preciado, Paul B.</td>\n",
       "      <td>PornotopÃ­a</td>\n",
       "      <td>En plena guerra fría, Hugh Hefner crea la que ...</td>\n",
       "    </tr>\n",
       "    <tr>\n",
       "      <th>22</th>\n",
       "      <td></td>\n",
       "      <td>Ecoanimal</td>\n",
       "      <td>La catástrofe ecológica es el problema más gra...</td>\n",
       "    </tr>\n",
       "    <tr>\n",
       "      <th>23</th>\n",
       "      <td>Wallace-Wells, David</td>\n",
       "      <td>El planeta inhÃ³spito</td>\n",
       "      <td>Hoy, la subida del nivel del mar es una causa ...</td>\n",
       "    </tr>\n",
       "  </tbody>\n",
       "</table>\n",
       "</div>"
      ],
      "text/plain": [
       "                       author  \\\n",
       "0   Marrero Rocha, Inmaculada   \n",
       "1              Robinson, Andy   \n",
       "2           Preciado, Paul B.   \n",
       "3               Quinones, Sam   \n",
       "4             Rich, Nathaniel   \n",
       "5                Vargas, Fred   \n",
       "6       Esteban MuÃ±oz, JosÃ©   \n",
       "7                Frase, Peter   \n",
       "8              Horvat, Srecko   \n",
       "9          Innerarity, Daniel   \n",
       "10           Mansbridge, Jane   \n",
       "11             Tolentino, Jia   \n",
       "12             AlemÃ¡n, Jorge   \n",
       "13             Rich, Adrienne   \n",
       "14             Rich, Adrienne   \n",
       "15              Zizek, Slavoj   \n",
       "16              Maalouf, Amin   \n",
       "17           Frankopan, Peter   \n",
       "18              Forti, Steven   \n",
       "19       Abdo FÃ©rez, Cecilia   \n",
       "20          Preciado, Paul B.   \n",
       "21          Preciado, Paul B.   \n",
       "22                              \n",
       "23       Wallace-Wells, David   \n",
       "\n",
       "                                                title  \\\n",
       "0   Soldados del terrorismo global. Los nuevos com...   \n",
       "1                          Oro, petrÃ³leo y aguacates   \n",
       "2                             Manifiesto contrasexual   \n",
       "3                                   Tierra de sueÃ±os   \n",
       "4                                 Perdiendo la tierra   \n",
       "5                             La humanidad en peligro   \n",
       "6                                       UtopÃ­a queer   \n",
       "7                                      Cuatro futuros   \n",
       "8                                  PoesÃ­a del futuro   \n",
       "9               Una teorÃ­a de la democracia compleja   \n",
       "10  Feminismo: breve introducciÃ³n a una ideologÃ­...   \n",
       "11                                       Falso espejo   \n",
       "12        RazÃ³n fronteriza y sujeto del inconsciente   \n",
       "13                                   Nacemos de mujer   \n",
       "14  Ensayos esenciales. Cultura, polÃ­tica y el ar...   \n",
       "15                               Disparen contra Marx   \n",
       "16                 El naufragio de las civilizaciones   \n",
       "17                        Las nuevas rutas de la seda   \n",
       "18                               Patriotas indignados   \n",
       "19        Contra las mujeres. (In)Justicia en Spinoza   \n",
       "20                                       Testo yonqui   \n",
       "21                                        PornotopÃ­a   \n",
       "22                                          Ecoanimal   \n",
       "23                              El planeta inhÃ³spito   \n",
       "\n",
       "                                          description  \n",
       "0   Esta obra tiene como misión ofrecer una visión...  \n",
       "1   Andy Robinson cuenta en estas crónicas persona...  \n",
       "2   «En el principio era el dildo. El dildo antece...  \n",
       "3   Quinones teje dos historias clásicas sobre el ...  \n",
       "4   En 1979 sabíamos casi todo lo que entendemos h...  \n",
       "5   Hace diez años, Fred Vargas publicó un breve t...  \n",
       "6   Lo queer aún no ha llegado. Es una idealidad. ...  \n",
       "7   ¿CÓMO SERÁ LA VIDA DESPUÉS DEL CAPITALISMO?\\nP...  \n",
       "8   Cómo un movimiento de liberación global es la ...  \n",
       "9   La principal amenaza de la democracia no es la...  \n",
       "10  En el presente volumen, dos de las más destaca...  \n",
       "11  Jia Tolentino es una voz incomparable a la hor...  \n",
       "12  ¿Qué llevaría a dos psicoanalistas lacanianos ...  \n",
       "13  La maternidad como experiencia e institución«S...  \n",
       "14  Adrienne Rich fue una poeta galardonada, una e...  \n",
       "15  Colaboradores: Silvia Federici, Eduardo Grüner...  \n",
       "16  Cuando los espectaculares avances tecnológicos...  \n",
       "17  Hubo una vez en la que todos los caminos lleva...  \n",
       "18  En los últimos treinta años, desde el final de...  \n",
       "19  ¿Cómo puede alguien escribir una ética y obvia...  \n",
       "20  Este libro no es un libro al uso. Es, de entra...  \n",
       "21  En plena guerra fría, Hugh Hefner crea la que ...  \n",
       "22  La catástrofe ecológica es el problema más gra...  \n",
       "23  Hoy, la subida del nivel del mar es una causa ...  "
      ]
     },
     "execution_count": 18,
     "metadata": {},
     "output_type": "execute_result"
    }
   ],
   "source": [
    "# Storing the info in a dataframe \n",
    "books_df = pd.DataFrame({'author': authors, \n",
    "                         'title': titles, \n",
    "                         'description': descriptions})\n",
    "books_df"
   ]
  },
  {
   "cell_type": "markdown",
   "metadata": {},
   "source": [
    "Now that we have seen how to scrape products websites, you could: \n",
    "* Apply this to different websites which maybe have info about pricing and ratings as well \n",
    "* Build a recommendation engine based on popular products\n",
    "* Continue the analysis over a period of time to see how tastes change"
   ]
  }
 ],
 "metadata": {
  "kernelspec": {
   "display_name": "Python 3",
   "language": "python",
   "name": "python3"
  },
  "language_info": {
   "codemirror_mode": {
    "name": "ipython",
    "version": 3
   },
   "file_extension": ".py",
   "mimetype": "text/x-python",
   "name": "python",
   "nbconvert_exporter": "python",
   "pygments_lexer": "ipython3",
   "version": "3.8.1"
  }
 },
 "nbformat": 4,
 "nbformat_minor": 4
}
